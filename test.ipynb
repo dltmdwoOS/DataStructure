{
 "cells": [
  {
   "cell_type": "code",
   "execution_count": 2,
   "metadata": {},
   "outputs": [],
   "source": [
    "import list\n",
    "import group"
   ]
  },
  {
   "cell_type": "code",
   "execution_count": null,
   "metadata": {},
   "outputs": [],
   "source": [
    "# Insight for python range\n",
    "lst1 = list(range(1, 10, 1)) # 1 ~ (10 - 1)\n",
    "lst2 = list(range(10, 1, -1)) # 10 ~ (1 + 1)\n",
    "\n",
    "print(lst1)\n",
    "print(lst2)"
   ]
  },
  {
   "cell_type": "code",
   "execution_count": null,
   "metadata": {},
   "outputs": [],
   "source": [
    "new_list = list.List_array(10)"
   ]
  },
  {
   "cell_type": "code",
   "execution_count": null,
   "metadata": {},
   "outputs": [],
   "source": [
    "new_list.addLast(3)\n",
    "new_list.addLast(5)\n",
    "new_list.addLast(4)\n",
    "\n",
    "new_list.traverse()"
   ]
  },
  {
   "cell_type": "code",
   "execution_count": null,
   "metadata": {},
   "outputs": [],
   "source": [
    "new_group = group.Group_array(100)"
   ]
  },
  {
   "cell_type": "code",
   "execution_count": null,
   "metadata": {},
   "outputs": [],
   "source": [
    "new_group.addFirst(1, \"A\")\n",
    "new_group.addFirst(2, \"A\")\n",
    "new_group.addFirst(1, \"B\")\n",
    "new_group.addFirst(3, \"A\")\n",
    "new_group.addFirst(1, \"C\")\n",
    "new_group.addFirst(2, \"C\")\n",
    "new_group.addFirst(2, \"B\")\n",
    "new_group.addFirst(4, \"A\")\n",
    "new_group.addFirst(3, \"B\")\n",
    "new_group.addFirst(5, \"A\")"
   ]
  },
  {
   "cell_type": "code",
   "execution_count": null,
   "metadata": {},
   "outputs": [],
   "source": [
    "new_group.traverse()"
   ]
  },
  {
   "cell_type": "code",
   "execution_count": null,
   "metadata": {},
   "outputs": [],
   "source": [
    "new_group.traverseGroup(\"A\")"
   ]
  },
  {
   "cell_type": "code",
   "execution_count": 3,
   "metadata": {},
   "outputs": [],
   "source": [
    "grouppp = group.Group2_DLL(5)"
   ]
  },
  {
   "cell_type": "code",
   "execution_count": 4,
   "metadata": {},
   "outputs": [],
   "source": [
    "grouppp.addElementLast(1, 0)\n",
    "grouppp.addElementLast(2, 0)\n",
    "grouppp.addElementLast(3, 0)\n",
    "grouppp.addElementLast(1, 1)\n",
    "grouppp.addElementLast(2, 1)\n",
    "grouppp.addElementLast(1, 3)\n",
    "grouppp.addElementLast(2, 3)\n",
    "grouppp.addElementLast(3, 3)\n",
    "grouppp.addElementLast(4, 3)\n",
    "grouppp.addElementLast(5, 3)\n",
    "grouppp.addElementLast(1, 4)\n"
   ]
  },
  {
   "cell_type": "code",
   "execution_count": 7,
   "metadata": {},
   "outputs": [
    {
     "name": "stdout",
     "output_type": "stream",
     "text": [
      "1\n",
      "2\n"
     ]
    }
   ],
   "source": [
    "grouppp.traverseGroup(1)"
   ]
  },
  {
   "cell_type": "code",
   "execution_count": null,
   "metadata": {},
   "outputs": [],
   "source": []
  }
 ],
 "metadata": {
  "kernelspec": {
   "display_name": "Python 3",
   "language": "python",
   "name": "python3"
  },
  "language_info": {
   "codemirror_mode": {
    "name": "ipython",
    "version": 3
   },
   "file_extension": ".py",
   "mimetype": "text/x-python",
   "name": "python",
   "nbconvert_exporter": "python",
   "pygments_lexer": "ipython3",
   "version": "3.10.10"
  }
 },
 "nbformat": 4,
 "nbformat_minor": 2
}
