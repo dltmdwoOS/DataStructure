{
 "cells": [
  {
   "cell_type": "code",
   "execution_count": 1,
   "metadata": {},
   "outputs": [],
   "source": [
    "%load_ext autoreload\n",
    "%autoreload 2\n",
    "\n",
    "import stack"
   ]
  },
  {
   "cell_type": "code",
   "execution_count": 3,
   "metadata": {},
   "outputs": [
    {
     "name": "stdout",
     "output_type": "stream",
     "text": [
      "[1, 1, 2, 1, 2, 3, 6, 1]\n"
     ]
    }
   ],
   "source": [
    "# 기간 O(n)\n",
    "X = [60, 30, 40, 10, 20, 30, 50, 40]\n",
    "span = []\n",
    "s = stack.Stack_array(100)\n",
    "for i in range(len(X)):\n",
    "    while(not s.isEmpty() and X[s.top()] <= X[i]):\n",
    "        s.pop()\n",
    "    if s.isEmpty():\n",
    "        span.append(i+1)\n",
    "    else:\n",
    "        span.append(i - s.top())\n",
    "    s.push(i)\n",
    "    \n",
    "print(span)"
   ]
  },
  {
   "cell_type": "code",
   "execution_count": 11,
   "metadata": {},
   "outputs": [],
   "source": [
    "# 후위 수식 convert\n",
    "def isOperand(s):\n",
    "    operator = ['+', '-', '*', '/', '(', ')']\n",
    "    if s in operator:\n",
    "        return False\n",
    "    else:\n",
    "        return True\n",
    "\n",
    "P = {\n",
    "    '(':0,\n",
    "    '+':1,\n",
    "    '-':1,\n",
    "    '*':2,\n",
    "    '/':2\n",
    "}\n",
    "\n",
    "def convert(X):\n",
    "    Stack = stack.Stack_array(100) \n",
    "    res = []\n",
    "    for s in X:\n",
    "        if isOperand(s): # Operand일 떄\n",
    "            res.append(s)\n",
    "        elif s == '(': # ( 일 때\n",
    "            Stack.push(s)\n",
    "        elif s == ')': # ) 일 때\n",
    "            while (Stack.top() != '('):\n",
    "                res.append(Stack.pop())\n",
    "            Stack.pop() # '(' 제거\n",
    "        else: # Operator 일 때\n",
    "            while (not Stack.isEmpty() and P[s] <= P[Stack.top()]): # Stack 중에서 우선순위 `같거나 높은` Operator 먼저 출력 \n",
    "                res.append(Stack.pop())\n",
    "            Stack.push(s)\n",
    "    while(1):\n",
    "        if (Stack.isEmpty()):\n",
    "            break\n",
    "        res.append(Stack.pop())\n",
    "    return res"
   ]
  },
  {
   "cell_type": "code",
   "execution_count": 12,
   "metadata": {},
   "outputs": [
    {
     "data": {
      "text/plain": [
       "[3, 5, 5, '-', '*', 9, '+']"
      ]
     },
     "execution_count": 12,
     "metadata": {},
     "output_type": "execute_result"
    }
   ],
   "source": [
    "convert([3,'*','(',5,'-',5,')','+',9])"
   ]
  },
  {
   "cell_type": "code",
   "execution_count": 13,
   "metadata": {},
   "outputs": [],
   "source": [
    "# 후위 수식 evaluate\n",
    "\n",
    "def doOperator(op, x, y):\n",
    "    if op == '+':\n",
    "        return x+y\n",
    "    elif op =='-':\n",
    "        return x-y\n",
    "    elif op =='*':\n",
    "        return x*y\n",
    "    elif op =='/':\n",
    "        return x/y\n",
    "    \n",
    "def evaluate(X):\n",
    "    Stack = stack.Stack_array(100)\n",
    "    for s in X:\n",
    "        if isOperand(s):\n",
    "            Stack.push(s)\n",
    "        else:\n",
    "            a = Stack.pop()\n",
    "            b = Stack.pop()\n",
    "            c = doOperator(s, b, a)\n",
    "            Stack.push(c)\n",
    "    return Stack.pop()"
   ]
  },
  {
   "cell_type": "code",
   "execution_count": 14,
   "metadata": {},
   "outputs": [
    {
     "name": "stdout",
     "output_type": "stream",
     "text": [
      "2 x 5 + 4 -> convert -> [2, 5, '*', 4, '+']\n",
      "2 + 5 x 4 -> convert -> [2, 5, 4, '*', '+']\n",
      "(2 + 5) x 4 -> convert -> [2, 5, '+', 4, '*']\n",
      "2 x 5 + 4 = 14\n",
      "2 + 5 x 4 = 22\n",
      "(2 + 5) x 4 = 28\n"
     ]
    }
   ],
   "source": [
    "# Order 다름\n",
    "print(\"2 x 5 + 4 -> convert ->\",convert([2,'*',5,'+',4]))\n",
    "print(\"2 + 5 x 4 -> convert ->\",convert([2,'+',5,'*',4]))\n",
    "print(\"(2 + 5) x 4 -> convert ->\",convert(['(',2,'+',5,')','*',4]))\n",
    "\n",
    "print(\"2 x 5 + 4 =\",evaluate(convert([2,'*',5,'+',4]))) # 2 5 * 4 +\n",
    "print(\"2 + 5 x 4 =\",evaluate(convert([2,'+',5,'*',4]))) # 2 5 4 * +\n",
    "print(\"(2 + 5) x 4 =\",evaluate(convert(['(',2,'+',5,')','*',4]))) # 2 5 + 4 *"
   ]
  },
  {
   "cell_type": "code",
   "execution_count": 15,
   "metadata": {},
   "outputs": [
    {
     "name": "stdout",
     "output_type": "stream",
     "text": [
      "5 + 3 - 2 -> convert -> [5, 3, '+', 2, '-']\n"
     ]
    }
   ],
   "source": [
    "# Order 같음\n",
    "print(\"5 + 3 - 2 -> convert ->\",convert([5,'+',3,'-',2]))"
   ]
  }
 ],
 "metadata": {
  "kernelspec": {
   "display_name": "Python 3",
   "language": "python",
   "name": "python3"
  },
  "language_info": {
   "codemirror_mode": {
    "name": "ipython",
    "version": 3
   },
   "file_extension": ".py",
   "mimetype": "text/x-python",
   "name": "python",
   "nbconvert_exporter": "python",
   "pygments_lexer": "ipython3",
   "version": "3.10.10"
  }
 },
 "nbformat": 4,
 "nbformat_minor": 2
}
